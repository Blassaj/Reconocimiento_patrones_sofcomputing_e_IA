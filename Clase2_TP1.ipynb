{
  "nbformat": 4,
  "nbformat_minor": 0,
  "metadata": {
    "colab": {
      "name": "Clase2_TP1.ipynb",
      "provenance": [],
      "collapsed_sections": [],
      "toc_visible": true,
      "authorship_tag": "ABX9TyP3jQiYQVOirDbolpY5T/nt",
      "include_colab_link": true
    },
    "kernelspec": {
      "name": "python3",
      "display_name": "Python 3"
    },
    "language_info": {
      "name": "python"
    }
  },
  "cells": [
    {
      "cell_type": "markdown",
      "metadata": {
        "id": "view-in-github",
        "colab_type": "text"
      },
      "source": [
        "<a href=\"https://colab.research.google.com/github/Blassaj/Reconocimiento_patrones_sofcomputing_e_IA/blob/main/Clase2_TP1.ipynb\" target=\"_parent\"><img src=\"https://colab.research.google.com/assets/colab-badge.svg\" alt=\"Open In Colab\"/></a>"
      ]
    },
    {
      "cell_type": "markdown",
      "metadata": {
        "id": "C7rRfhKfN8FY"
      },
      "source": [
        "# **Ejercicio 1**: Análisis del primer dataset.\n",
        "\n",
        "Inicializamos las bibliotecas:"
      ]
    },
    {
      "cell_type": "code",
      "metadata": {
        "id": "IdkXz7y4OP3D"
      },
      "source": [
        "import pandas as pd\n",
        "import seaborn as sns \n",
        "import numpy as np\n",
        "import matplotlib.pyplot as plt"
      ],
      "execution_count": 1,
      "outputs": []
    },
    {
      "cell_type": "markdown",
      "metadata": {
        "id": "6wqV3E72OW7m"
      },
      "source": [
        "Abrimos un dataset y lo visualizamos:"
      ]
    },
    {
      "cell_type": "code",
      "metadata": {
        "colab": {
          "base_uri": "https://localhost:8080/"
        },
        "id": "rHNs0sRXOXrF",
        "outputId": "067e9750-c1e8-4a4b-90e1-646cec6b19ac"
      },
      "source": [
        "datas = pd.read_csv('/content/ejercicio1_2.csv', header=0, sep=\";\")\n",
        "print(datas)\n",
        "print(datas.shape)"
      ],
      "execution_count": 2,
      "outputs": [
        {
          "output_type": "stream",
          "text": [
            "    informeNumero      fecha  ...  sedes_ucma  observaciones\n",
            "0             131  25/9/2020  ...           4            NaN\n",
            "1             130  24/9/2020  ...           4            NaN\n",
            "2             129  23/9/2020  ...           4            NaN\n",
            "3             128  22/9/2020  ...           4            NaN\n",
            "4             127  21/9/2020  ...           4            NaN\n",
            "..            ...        ...  ...         ...            ...\n",
            "83             10   4/7/2020  ...           3            NaN\n",
            "84              9   3/7/2020  ...           3            NaN\n",
            "85              8   2/7/2020  ...           3            NaN\n",
            "86              7   1/7/2020  ...           3            NaN\n",
            "87              1  30/6/2020  ...           3            NaN\n",
            "\n",
            "[88 rows x 19 columns]\n",
            "(88, 19)\n"
          ],
          "name": "stdout"
        }
      ]
    },
    {
      "cell_type": "markdown",
      "metadata": {
        "id": "haWhUqFXO-b-"
      },
      "source": [
        "Calculamos algunas variables estadísticas (media, desvío estandar, etc):"
      ]
    },
    {
      "cell_type": "code",
      "metadata": {
        "colab": {
          "base_uri": "https://localhost:8080/"
        },
        "id": "OlJFOjWjWZ-m",
        "outputId": "39e9c192-6362-41ce-855a-9b1e245bc886"
      },
      "source": [
        "print(datas['total_camas_ocupadas_ucma'].describe())\n"
      ],
      "execution_count": 3,
      "outputs": [
        {
          "output_type": "stream",
          "text": [
            "count    88.000000\n",
            "mean      5.170455\n",
            "std       4.334363\n",
            "min       0.000000\n",
            "25%       3.000000\n",
            "50%       4.000000\n",
            "75%       6.000000\n",
            "max      21.000000\n",
            "Name: total_camas_ocupadas_ucma, dtype: float64\n"
          ],
          "name": "stdout"
        }
      ]
    },
    {
      "cell_type": "markdown",
      "metadata": {
        "id": "HdhQna_nX0s-"
      },
      "source": [
        "Graficamos el histograma y boxplot de las distintas variables del dataset:"
      ]
    },
    {
      "cell_type": "code",
      "metadata": {
        "colab": {
          "base_uri": "https://localhost:8080/",
          "height": 749
        },
        "id": "2QgTSRhjfA3Q",
        "outputId": "5d138fd7-3baf-46ca-c88d-ab70cd0546a3"
      },
      "source": [
        "graf1=datas['total_camas_ocupadas_ucma'].hist()\n",
        "plt.show(graf1)\n",
        "graf2=sns.boxplot(y=datas['total_camas_ocupadas_ucma'])\n",
        "plt.show(graf2)\n",
        "graf3=datas['total_camas_ocupadas_ucma'].plot()\n",
        "plt.show(graf3)\n"
      ],
      "execution_count": 4,
      "outputs": [
        {
          "output_type": "display_data",
          "data": {
            "image/png": "[encoded data removed]",
            "text/plain": [
              "<Figure size 432x288 with 1 Axes>"
            ]
          },
          "metadata": {
            "tags": [],
            "needs_background": "light"
          }
        },
        {
          "output_type": "display_data",
          "data": {
            "image/png": "[encoded data removed]",
            "text/plain": [
              "<Figure size 432x288 with 1 Axes>"
            ]
          },
          "metadata": {
            "tags": [],
            "needs_background": "light"
          }
        },
        {
          "output_type": "display_data",
          "data": {
            "image/png": "[encoded data removed]",
            "text/plain": [
              "<Figure size 432x288 with 1 Axes>"
            ]
          },
          "metadata": {
            "tags": [],
            "needs_background": "light"
          }
        }
      ]
    },
    {
      "cell_type": "markdown",
      "metadata": {
        "id": "onIboiG4tktB"
      },
      "source": [
        "### Respuestas sobre el primer dataset:\n",
        "\n",
        "\n",
        "*   Las observaciones del dataset son acumulativas por lo que para facilitar el análisis habría que obtener el conteo diario de las distintas variables/atributos.\n",
        "*   No se puede determinar directamente si la distribución de las observaciones es normal o Gaussiana debido al caracter acumulativo, y aún obteniendo el conteo diario no cumplen con algunas condiciones básicas como pueden ser:\n",
        "    *   Ser simétricas respecto a la media.\n",
        "    *   Tener el máximo en la media.\n",
        "    *   Crece hasta la media y decrece a partir de ella.\n"
      ]
    },
    {
      "cell_type": "markdown",
      "metadata": {
        "id": "2dDgQ7QiZRme"
      },
      "source": [
        "# **Ejercicio 1:** Análisis del segundo dataset.\n",
        "\n"
      ]
    },
    {
      "cell_type": "markdown",
      "metadata": {
        "id": "HvuxCiZGaS_W"
      },
      "source": [
        "Hacemos el mismo análisis exploratorio con el segundo dataset, en este caso la toma de datos/observaciones no son acumulativas.\n",
        "\n",
        "### Repuestas sobre el segundo dataset:\n",
        "\n",
        "\n",
        "*   En el caso de la variable \"total_camas_hospitales\" las observaciones se mantienen relativamente constantes en el tiempo, aunque ciertas observaciones figuran en cero. \n",
        "*   Las variables \"camas_sospechosos_covid\" y \"respiradores_ocupados\" son las que presentan una distribución más parecida a la normal o Gaussiana.\n",
        "*   A partir de cierta fecha no contamos con datos de las variables \"respiradores_covid_totales\" y \"respiradores_covid_ocupados\".\n",
        "\n",
        "\n"
      ]
    },
    {
      "cell_type": "markdown",
      "metadata": {
        "id": "Eamuvdqpnipj"
      },
      "source": [
        "# **Ejercicio 2:**: Generar un dataset con dos conjuntos Gaussianos (con diferente media y desvío estandar). Encontrar el umbral de clasificación por mínimo error usando la curva ROC y evaluar parámetros de calidad del clasificador.\n"
      ]
    },
    {
      "cell_type": "markdown",
      "metadata": {
        "id": "FY2PjDuRonNU"
      },
      "source": [
        "Inicializamos las bibliotecas básicas."
      ]
    },
    {
      "cell_type": "code",
      "metadata": {
        "id": "OgbK_ZAcov37"
      },
      "source": [
        "import numpy as np\n",
        "import matplotlib.pyplot as plt\n",
        "import pandas as pd"
      ],
      "execution_count": 5,
      "outputs": []
    },
    {
      "cell_type": "markdown",
      "metadata": {
        "id": "npiOx5bJpAKv"
      },
      "source": [
        "Importamos las herramientas de la biblioteca de skilearn para generar nuestra curva ROC."
      ]
    },
    {
      "cell_type": "code",
      "metadata": {
        "id": "D25HE8OTpGE8"
      },
      "source": [
        "from sklearn.datasets import make_classification\n",
        "from sklearn.linear_model import LogisticRegression\n",
        "from sklearn.model_selection import train_test_split\n",
        "from sklearn.metrics import roc_curve\n",
        "from sklearn.metrics import roc_auc_score"
      ],
      "execution_count": 6,
      "outputs": []
    },
    {
      "cell_type": "markdown",
      "metadata": {
        "id": "leHajv0_pJ_j"
      },
      "source": [
        "Creamos 2 conjuntos de datos que sigan una distribución Gaussiana con 50 muestras cada uno, distinta media y desvío."
      ]
    },
    {
      "cell_type": "code",
      "metadata": {
        "colab": {
          "base_uri": "https://localhost:8080/",
          "height": 782
        },
        "id": "b3behInQpQxj",
        "outputId": "7f94bde3-3174-4419-d8e3-b55e01dd7270"
      },
      "source": [
        "dat1, dat2 = make_classification(n_samples=100, n_classes=2,random_state=2)\n",
        "print(dat1)\n",
        "graf1=plt.hist(dat1)\n",
        "plt.show(graf1)\n",
        "print(dat2)\n",
        "graf2=plt.hist(dat2)\n",
        "plt.show(graf2)"
      ],
      "execution_count": 7,
      "outputs": [
        {
          "output_type": "stream",
          "text": [
            "[[-0.26623674  1.578341    0.24767631 ... -0.17070155  0.76586746\n",
            "  -2.1686185 ]\n",
            " [ 0.09555698 -1.27596128  1.80296332 ...  2.08668273  1.14709994\n",
            "  -0.34462367]\n",
            " [-0.35182698  0.27494148 -0.74571462 ...  1.64794463 -0.29432324\n",
            "   1.09170863]\n",
            " ...\n",
            " [ 0.40029749  2.02639356  0.65403659 ...  0.49918436  0.28925254\n",
            "  -0.97133221]\n",
            " [-1.45445982 -1.49524981  0.10112055 ...  0.60795344  0.3665932\n",
            "  -0.52274185]\n",
            " [ 0.58261383  1.54721615  0.45369511 ...  0.81343367 -0.6826236\n",
            "  -1.01466268]]\n"
          ],
          "name": "stdout"
        },
        {
          "output_type": "display_data",
          "data": {
            "image/png": "[encoded data removed]",
            "text/plain": [
              "<Figure size 432x288 with 1 Axes>"
            ]
          },
          "metadata": {
            "tags": [],
            "needs_background": "light"
          }
        },
        {
          "output_type": "stream",
          "text": [
            "[1 0 1 0 1 0 1 1 0 0 1 1 0 1 0 0 1 0 0 0 1 1 1 0 1 1 0 0 0 1 1 1 0 1 0 0 0\n",
            " 1 0 1 1 1 0 1 0 0 0 0 1 1 1 0 1 0 1 1 0 0 0 0 0 1 0 0 1 1 0 1 1 0 1 0 1 0\n",
            " 1 1 0 0 0 1 0 0 0 1 0 1 1 1 0 0 1 0 0 1 1 1 1 1 0 1]\n"
          ],
          "name": "stdout"
        },
        {
          "output_type": "display_data",
          "data": {
            "image/png": "[encoded data removed]",
            "text/plain": [
              "<Figure size 432x288 with 1 Axes>"
            ]
          },
          "metadata": {
            "tags": [],
            "needs_background": "light"
          }
        }
      ]
    },
    {
      "cell_type": "markdown",
      "metadata": {
        "id": "-UC6QyW5pYFL"
      },
      "source": [
        "Otra opción:"
      ]
    },
    {
      "cell_type": "code",
      "metadata": {
        "id": "uZui-kRZpcrD"
      },
      "source": [
        "#med1,des1=(20,5) #media y desvío del primer muestreo\n",
        "#d1=np.random.normal(med1,des1,50)\n",
        "#dt1=np.round(d1)\n",
        "#print(dt1)\n",
        "#graf1=plt.hist(dt1)\n",
        "#plt.show(graf1)\n",
        "\n",
        "#med2,des2=(15,4) #media y desvío del segundo muestreo\n",
        "#d2=np.random.normal(med2,des2,50)\n",
        "#dt2=np.round(d2)\n",
        "#print(dt2)\n",
        "#graf2=plt.hist(dt2)\n",
        "#plt.show(graf2)"
      ],
      "execution_count": 8,
      "outputs": []
    },
    {
      "cell_type": "markdown",
      "metadata": {
        "id": "N3Wy1WS4pgXD"
      },
      "source": [
        "Generamos nuestros sets de entrenamiento y testeo para usar luego en la clasificación."
      ]
    },
    {
      "cell_type": "code",
      "metadata": {
        "colab": {
          "base_uri": "https://localhost:8080/"
        },
        "id": "GBuwr3JPpopM",
        "outputId": "44c1b9a7-e125-4862-e4d4-1a651b0b7770"
      },
      "source": [
        "train_dat1, test_dat1, train_dat2, test_dat2=train_test_split(dat1, dat2, test_size=0.5, random_state=2)\n",
        "print(train_dat1)\n",
        "print(train_dat2)"
      ],
      "execution_count": 9,
      "outputs": [
        {
          "output_type": "stream",
          "text": [
            "[[ 7.66744294e-01 -1.62013098e-01 -4.69369039e-01 -3.19745842e-01\n",
            "   8.74153434e-01  1.14107245e-01  2.67248091e-01  1.12188660e+00\n",
            "   8.97839682e-01 -5.36743869e-01 -1.29114905e+00 -7.12805664e-01\n",
            "   2.88741056e-03 -1.23253914e+00  2.04091775e+00 -5.57114597e-01\n",
            "   2.69542736e+00 -2.99676160e+00  6.72765259e-01 -1.67870974e+00]\n",
            " [ 1.96785270e-01  2.64093495e+00  8.84916989e-01  4.24801043e-01\n",
            "  -3.81664737e+00  2.55541968e-01 -7.58511523e-01  5.60022058e-01\n",
            "  -1.64129023e-01  1.97749914e-01 -1.88145390e-01  2.83989531e+00\n",
            "  -5.97657259e-01  3.36836136e-01  2.25961077e-01  9.13505484e-01\n",
            "  -5.53796527e-01  3.37936610e-01  3.51102376e-02 -7.30028118e-01]\n",
            " [-2.00878453e+00 -1.03015177e+00  1.07076857e+00 -5.94722499e-01\n",
            "  -6.94484899e-01  5.62704887e-01 -5.82070757e-01 -6.29079151e-01\n",
            "  -9.86496364e-01  1.96262894e-01  1.81208553e+00  7.29494291e-01\n",
            "  -8.93609209e-01 -8.75896370e-01 -2.05626574e+00 -3.14811843e-01\n",
            "  -7.40029749e-02  7.51902355e-01 -6.43744900e-01  1.89693224e+00]\n",
            " [ 9.40175993e-01 -1.11011325e+00  1.71797774e+00  8.15206041e-01\n",
            "  -1.61816808e+00 -8.83125561e-01  1.54538683e+00  1.37617991e-01\n",
            "  -4.00106056e-01  1.01871705e+00 -1.03352168e-01  1.51805594e+00\n",
            "   1.62109298e+00  2.30237829e+00  8.48350567e-01 -2.07492237e+00\n",
            "   1.45840073e-01  7.12683273e-01  1.83094666e+00 -2.08703629e-01]\n",
            " [ 3.36065952e-01 -4.26347588e-01  8.26673937e-01 -1.12590378e+00\n",
            "  -8.78768371e-01 -1.28089518e+00  3.09846277e-01 -1.31682403e-01\n",
            "  -3.15828043e-01 -1.89044051e-01  7.07592866e-01  7.99543819e-01\n",
            "   7.13524448e-01 -4.49328601e-01  1.14053878e-01  4.88496666e-01\n",
            "   1.54829069e+00  2.52973487e+00  8.29789046e-01  8.37615794e-01]\n",
            " [ 2.36018411e-01  1.86116695e+00 -1.73344403e+00 -1.22277891e+00\n",
            "   9.44637094e-01  1.20922075e+00 -9.43725883e-01 -1.17758569e-01\n",
            "  -1.00261655e+00 -1.41523374e-01  1.31833203e-01 -1.05702913e+00\n",
            "  -4.79614255e-01 -1.18557282e-02 -8.59558174e-01  6.45943205e-01\n",
            "  -5.87679346e-01 -1.56200761e+00 -1.39048717e+00  1.12984841e+00]\n",
            " [-2.06690190e+00  5.48313848e-01 -9.49067340e-01  9.85167990e-01\n",
            "   9.54236690e-01  2.93657771e-01  1.84395665e+00 -1.77091213e+00\n",
            "   4.88540387e-01  3.66968098e-01 -1.11816096e+00 -8.80227821e-01\n",
            "  -6.92898267e-01  2.07140834e-02 -7.04770509e-02  5.68160319e-01\n",
            "  -4.26570804e-01  8.69400177e-01 -6.45832891e-01 -6.10449608e-01]\n",
            " [ 3.78794466e-01  2.00647901e-01  5.57937436e-01  8.53644334e-02\n",
            "  -1.04659051e+00  3.76545911e-01 -1.35479764e-01  1.59088487e-01\n",
            "   1.90437591e+00  5.13251444e-01 -2.37440268e+00  8.52474887e-01\n",
            "  -2.83519516e-01 -3.34844125e-01  5.85199353e-02  6.65334278e-01\n",
            "   3.35908395e-01  5.38424263e-01 -6.18375485e-01  5.72509465e-02]\n",
            " [ 4.00297487e-01  2.02639356e+00  6.54036586e-01 -5.40146013e-01\n",
            "  -2.89003131e+00 -1.81825246e+00  2.03664994e+00  9.90152682e-01\n",
            "  -9.59694707e-02  8.63532101e-01 -1.10835167e+00  2.14666738e+00\n",
            "  -1.67363599e+00 -9.04881880e-01 -5.90090600e-01 -2.54511211e-01\n",
            "  -4.70806767e-01  4.99184358e-01  2.89252536e-01 -9.71332206e-01]\n",
            " [ 2.92432067e-01 -1.48220209e+00  7.88966244e-01  8.19885117e-01\n",
            "   1.59769161e-01  1.80066685e-01 -6.69310440e-02  5.92806797e-01\n",
            "   4.24753672e-01 -1.19499989e+00 -1.09929731e+00  7.42782631e-02\n",
            "  -1.73071165e-01 -4.87930544e-01 -6.81530644e-01 -6.31118683e-01\n",
            "  -7.87749540e-01 -3.95346401e-01 -5.71381608e-01  8.70840765e-01]\n",
            " [-1.74287290e+00 -4.71425834e-01  7.72196453e-01  2.35933432e-03\n",
            "  -7.52913029e-01  5.94309157e-01 -7.81073374e-02 -2.51543946e+00\n",
            "  -8.98162946e-03  6.03671461e-01 -1.02961031e-01  6.99981615e-01\n",
            "  -2.11272691e-01 -7.96134520e-02  6.69229029e-01  7.05752538e-01\n",
            "  -1.07873949e+00 -1.65773474e+00 -8.62531086e-01 -1.50104009e+00]\n",
            " [-1.21852120e-01  3.70993008e-01 -8.61647854e-01 -1.43287274e+00\n",
            "   9.84093134e-01 -7.26032272e-01  3.26817200e-01 -1.14894528e-01\n",
            "   5.78760993e-01  8.58199428e-01  4.97384944e-01 -8.80381915e-01\n",
            "   7.45904787e-01 -3.62255988e-01 -1.26066033e-01 -5.68115631e-01\n",
            "   3.92172844e-01 -1.19981815e+00 -1.47674408e+00  4.55429861e-01]\n",
            " [-9.49688881e-01  6.83885375e-01 -2.83930250e-01  7.72703740e-01\n",
            "  -1.97219099e-01  1.39032527e-01 -1.13040409e+00 -1.02716908e+00\n",
            "  -1.07589227e+00 -2.36323391e-01  3.43942724e-01  6.96579106e-02\n",
            "   1.96236965e+00  1.56800500e+00 -1.62003355e-01  1.06231931e+00\n",
            "  -8.86219125e-01  1.40013683e+00 -5.04768374e-01 -4.95002423e-01]\n",
            " [-1.45445982e+00 -1.49524981e+00  1.01120546e-01  1.00597410e-01\n",
            "   1.23247185e+00 -1.61653540e+00  8.12153853e-01 -5.17912383e-01\n",
            "   2.03718473e-01  5.99848461e-01  2.91613504e-01 -8.26589013e-01\n",
            "   3.06336304e-01  1.65686924e+00 -8.87197268e-01  3.94161045e-01\n",
            "  -6.56298843e-01  6.07953437e-01  3.66593198e-01 -5.22741853e-01]\n",
            " [ 1.98983529e+00  3.21089766e-01 -2.73660822e-01 -1.05287411e+00\n",
            "   1.23814326e-01 -5.30139408e-01 -1.25920702e+00 -6.16844470e-01\n",
            "  -1.33116173e+00  1.04838866e+00  3.21335796e-01 -1.49409433e-01\n",
            "   8.84358999e-01  3.32762523e-01 -9.46446864e-01 -8.98985491e-01\n",
            "   1.67754406e+00  1.48886189e-01  5.07226604e-01 -1.46267835e+00]\n",
            " [-6.16865355e-02 -3.22312681e+00  8.48277314e-01 -8.88806544e-01\n",
            "   1.68482428e+00 -7.44193863e-01  8.75010653e-01 -4.39585186e-01\n",
            "   4.39776382e-01  1.81053166e+00 -2.05344711e+00 -9.63929875e-01\n",
            "   1.40498787e+00  1.27355579e+00 -2.38014880e-01 -5.90677952e-01\n",
            "   9.32841896e-01 -2.23100669e-01 -1.09941212e+00 -1.73188201e-01]\n",
            " [-8.75581330e-01  5.18040451e-01 -3.24907115e-01  1.05763457e+00\n",
            "   1.99555669e-02 -8.70952113e-01 -1.73561386e-01  7.32650013e-01\n",
            "  -2.16831265e-01 -8.65209964e-01  2.13158678e-01 -8.97449687e-02\n",
            "   5.62041138e-01  1.75181816e+00  1.55251343e+00  8.42369345e-01\n",
            "  -3.07935389e-01 -3.16094028e-01  2.38048446e+00 -1.27955688e+00]\n",
            " [-2.31114832e+00  1.55779979e+00 -1.69319275e+00 -2.18617880e-01\n",
            "   1.16426029e+00 -9.42034612e-01 -7.33425066e-01 -1.22620283e-02\n",
            "   7.08527533e-01 -7.85046131e-01  6.81603972e-01 -1.19912625e+00\n",
            "   7.66489019e-02 -8.34664675e-01  1.00649322e+00 -5.55780145e-01\n",
            "  -1.03524971e+00 -7.94723830e-01  8.87588793e-01  5.14029098e-01]\n",
            " [-4.52632031e-02 -7.70850741e-02  5.31295774e-01 -1.63962832e-01\n",
            "  -7.47627470e-01 -3.37972149e-01  3.43212732e-01 -2.08780746e+00\n",
            "  -4.95778848e-01  5.76909718e-01 -2.15050132e-01  6.40001537e-01\n",
            "  -9.38998998e-01  7.17805695e-01 -1.07502856e+00  3.71622161e-01\n",
            "   2.28253964e+00  6.28775807e-01  1.91260068e+00 -5.64493432e-01]\n",
            " [-3.59474459e-01 -2.68809126e-01  9.78941879e-01  1.93315697e+00\n",
            "  -1.25982962e+00 -1.15669917e+00  1.23403468e+00 -1.39291883e-01\n",
            "  -7.21879726e-01  1.49695179e+00  3.25654693e-02  1.09803088e+00\n",
            "  -2.02336394e+00 -1.53111111e+00 -1.64056022e+00 -1.07079633e+00\n",
            "   1.02818490e+00  2.67972576e-01  7.25353259e-01 -2.20644541e-03]\n",
            " [-6.93947037e-01  9.76571370e-01 -1.32030080e+00 -1.66973839e-01\n",
            "   1.12898916e+00 -1.50483396e+00 -5.26465922e-01 -2.37564393e-01\n",
            "   1.48818059e+00  1.97135659e+00  1.19437079e+00 -1.08759457e+00\n",
            "  -4.12418661e-01  1.35882201e+00 -5.87757621e-01  7.90930947e-02\n",
            "  -1.22708622e+00 -8.20498670e-01 -1.68938776e+00 -5.15621728e-01]\n",
            " [-2.82296300e-01 -8.82502327e-01  2.13594072e-01 -4.57746593e-01\n",
            "   4.90092732e-01 -6.55806963e-01  6.35647888e-01 -5.28352987e-01\n",
            "  -1.37207433e+00  7.28236833e-01  1.32096631e+00 -2.88148214e-01\n",
            "  -1.40628907e-01 -2.25593950e+00  2.68011784e-01 -1.34620650e-01\n",
            "   2.64483604e-01 -2.46087762e-01 -8.13825815e-01 -1.63540643e+00]\n",
            " [ 3.11582032e-02  2.13686845e+00 -1.95832361e+00  2.17429984e-01\n",
            "   1.03538027e+00  3.88983734e-01 -6.26927027e-01 -9.62698535e-01\n",
            "   2.50624320e-01  1.68374384e+00  8.61692233e-02 -1.17221671e+00\n",
            "   1.62462563e+00  1.61465895e+00  1.14072210e+00 -5.03624682e-01\n",
            "   5.16895674e-01  6.25723460e-01 -4.83159940e-01  9.92358985e-01]\n",
            " [-2.32248532e-01 -6.60384797e-01 -1.93709583e+00  4.45126882e-01\n",
            "   3.59999221e+00 -1.16452680e+00 -8.76099244e-01  4.96796978e-01\n",
            "  -1.09416655e+00 -3.46823335e-01 -1.05750513e+00 -2.93648140e+00\n",
            "   2.64578674e-01 -1.06581629e+00  7.04338841e-02 -3.52265899e-01\n",
            "   3.34595699e-01  1.00494415e+00  9.60322208e-01  7.52270165e-01]\n",
            " [ 3.56301816e-01 -6.53000313e-01 -3.80428960e-01 -6.18299396e-02\n",
            "   1.19291498e+00 -8.58536077e-01 -1.59890490e+00  1.32660382e-01\n",
            "  -1.34473013e-01  8.41614444e-01 -4.99858779e-01 -9.11908870e-01\n",
            "   6.36712153e-01  4.44285562e-01  1.47123230e+00 -2.96672009e-01\n",
            "  -3.91583809e-01 -4.12784864e-02 -1.22660305e+00  1.00723561e+00]\n",
            " [-1.08067527e+00 -1.30096921e+00  7.74940716e-01  6.42954244e-01\n",
            "   1.31143055e-02  3.00943119e+00  1.51647092e-01 -4.47283718e-01\n",
            "   2.41037207e-01  1.53873599e+00 -1.85306211e-01  1.72170079e-01\n",
            "  -1.14380083e+00 -8.07964987e-01  1.25356725e+00 -9.31713747e-01\n",
            "  -1.29823835e+00  2.96695136e-01  2.77721817e-01 -1.92074773e+00]\n",
            " [-1.01786273e+00  1.46973643e+00  4.49167463e-01  4.40206796e-01\n",
            "  -2.05726944e+00 -8.03055920e-02 -1.29222381e+00  3.11603984e-01\n",
            "  -4.69840677e-01  2.87747172e-01  1.00343703e-02  1.52426856e+00\n",
            "  -4.62865876e-01  7.04450885e-01  4.78804609e-01  2.24266347e+00\n",
            "  -1.33340399e+00 -2.14452750e-01  4.31988981e-01 -5.92966711e-01]\n",
            " [ 4.17592731e-01 -1.05300170e+00  8.50436579e-01 -1.40084545e+00\n",
            "  -3.33538669e-01  1.64191464e+00  3.11697707e-01  5.35558351e-01\n",
            "  -1.06492788e+00  1.61517627e+00 -6.03140792e-01  4.28967289e-01\n",
            "   6.35363758e-01  4.25606211e-01  4.19576292e-02  3.07525527e-01\n",
            "   1.45116990e+00  2.10222927e+00  6.31798924e-01  6.61264168e-02]\n",
            " [-7.25315353e-01 -1.87394596e+00  5.28356920e-01 -5.78089149e-01\n",
            "   9.25349238e-01  5.61164198e-01 -1.01107475e+00 -3.28244493e-01\n",
            "   1.48227436e-01  7.98810309e-01 -9.10869775e-01 -5.14809030e-01\n",
            "   1.20023885e+00 -1.72152952e+00  1.98216333e+00  2.23690285e-01\n",
            "  -6.77100670e-01  2.96490384e-01  5.17836157e-01 -1.06440306e+00]\n",
            " [ 2.51829046e-01  2.75112251e-01 -4.92820808e-01 -6.00098210e-01\n",
            "   5.04428182e-01  6.64857358e-01  2.33543799e+00  4.20162940e-01\n",
            "   1.18703642e+00 -8.15141647e-02 -2.02511382e-01 -4.63230316e-01\n",
            "  -6.18693818e-01 -3.98935217e-02 -6.67508253e-01  1.52156793e-01\n",
            "  -2.21180426e-01 -4.54537503e-01 -7.67283950e-02 -6.04131869e-01]\n",
            " [ 1.33531175e+00  8.93236350e-01  3.98552513e-02 -9.35868914e-01\n",
            "  -8.90852465e-01  9.94992653e-02 -2.40422605e+00 -1.63761438e+00\n",
            "  -2.58049426e-01  1.39034601e+00  1.30112042e+00  6.23885416e-01\n",
            "  -4.86318581e-01 -1.65167960e+00 -1.00130515e+00  7.35410461e-01\n",
            "  -5.07073802e-01 -3.28568470e-01  1.08885847e+00 -3.64615003e-01]\n",
            " [ 8.97459973e-01  4.11748708e-01 -9.14881526e-01  5.78805505e-02\n",
            "   1.02833096e+00  3.80548860e-01 -1.60231424e+00 -6.38824780e-01\n",
            "   1.02001166e+00  6.87336055e-01  1.28236515e+00 -9.23348426e-01\n",
            "  -3.51200955e-01 -5.74312596e-01  3.49157627e-01 -5.86767901e-01\n",
            "  -9.72529201e-02 -2.58267082e-01 -1.11258905e+00 -4.49673148e-01]\n",
            " [-1.47417084e-01  9.08041912e-01 -2.30758001e-01 -2.34140999e-01\n",
            "  -4.87342073e-01 -1.45964411e-01 -9.44298276e-01  8.30878534e-01\n",
            "  -9.00500314e-01 -5.30242753e-01 -2.96408571e-01  2.82236915e-01\n",
            "   7.54160973e-01  8.04303988e-02  5.85360099e-01 -2.25268528e+00\n",
            "  -1.27511255e+00  3.59252825e-02  4.17309223e-01 -7.96181395e-01]\n",
            " [ 7.92990718e-01  1.25659963e+00  1.45851313e-01  5.68725594e-01\n",
            "  -1.39168244e+00 -6.93225598e-01  1.64787517e+00 -5.01512485e-01\n",
            "   8.19317930e-02 -5.22655090e-01  1.27224463e+00  9.94175870e-01\n",
            "  -5.28647394e-02 -4.29012263e-01 -1.40185313e+00 -2.34482668e-01\n",
            "   3.73226981e-01  6.29926754e-02  9.91660289e-01  1.40452975e+00]\n",
            " [-3.83485183e-01  9.66280431e-01  5.56710638e-02 -1.15021767e+00\n",
            "  -9.83062691e-01  4.53701773e-01 -3.81164620e-01 -1.95037909e-01\n",
            "   6.41020641e-03 -2.18417756e+00 -1.33435858e+00  6.91196233e-01\n",
            "  -1.63388363e+00 -1.51620476e+00  6.82921371e-01  6.85617746e-01\n",
            "   4.07948363e-01  5.89894304e-01  1.76829743e+00  1.80914499e+00]\n",
            " [-1.50704026e+00 -1.21515653e-01 -4.67835239e-01  2.55113812e+00\n",
            "   8.34185244e-01  3.76647110e-01 -1.02918255e-01 -1.18210537e+00\n",
            "  -1.35267752e+00 -3.75393203e-01  6.41468129e-01 -6.84874448e-01\n",
            "  -1.16481133e+00 -9.23135898e-01 -2.19038077e-01  9.44089847e-01\n",
            "  -1.40029552e-01 -1.70244568e+00  1.95782994e-01  9.09282937e-01]\n",
            " [ 1.58493598e+00 -1.77281270e+00  4.02286861e-01  8.17850592e-01\n",
            "   1.02583072e+00 -6.98164583e-01 -1.25657282e+00  2.01997788e-01\n",
            "   6.00310394e-01 -1.46943188e-01  1.31130608e+00 -6.13608440e-01\n",
            "   8.99889094e-01  1.53941339e+00 -2.00007670e+00 -2.09371844e-01\n",
            "  -9.26607996e-01  7.40251684e-01 -2.92709378e-01 -1.93203970e-01]\n",
            " [-6.57718447e-01 -7.68880831e-01  1.14547072e+00  1.09801004e+00\n",
            "  -1.05226673e+00  5.18924924e-01 -4.92994911e-01 -7.08194380e-01\n",
            "  -2.30917497e-01  8.20564332e-01  1.15553059e+00  9.93783275e-01\n",
            "   1.42496703e+00 -4.89157001e-01 -2.54530459e-01 -1.01787805e+00\n",
            "  -1.08654815e+00 -4.46857897e-01 -8.34437391e-01  5.21109431e-01]\n",
            " [-6.71774891e-01  2.22531661e+00 -2.04483517e+00  2.02709233e-03\n",
            "   1.08664514e+00 -8.38512443e-01  1.65815263e+00  6.58224105e-02\n",
            "   2.34156874e-01  1.29559755e+00  4.27641038e-01 -1.22781283e+00\n",
            "  -3.58372477e-01 -5.52806678e-01  7.45140622e-01 -2.54233413e-01\n",
            "   7.71347741e-01 -9.20080591e-01  7.93201847e-01  8.16667130e-01]\n",
            " [-1.55003603e+00 -2.40927380e+00  9.67517416e-01  2.08305931e+00\n",
            "   7.45278609e-01  7.38637797e-01 -1.58729558e+00 -3.28424621e-01\n",
            "  -1.73366932e+00 -2.12077334e+00 -5.62310810e-01 -2.87888991e-01\n",
            "  -2.78885368e-01 -1.32161204e+00  1.17913583e-01 -1.01913313e+00\n",
            "   1.53200116e-01 -6.75848505e-01 -9.11519618e-01 -2.52668207e-01]\n",
            " [ 6.62951120e-01  1.22555367e-01 -7.10918125e-01  6.31319164e-01\n",
            "   9.82366009e-01  2.74866421e-01  1.63545167e+00 -1.83235847e+00\n",
            "  -7.39546351e-01 -1.44567507e+00 -5.99745233e-01 -8.43942823e-01\n",
            "   7.18677284e-01  1.08533474e-01  4.65106727e-02 -4.10908984e-01\n",
            "   1.23956381e+00  6.60000514e-01  3.31843938e-01 -8.75052799e-01]\n",
            " [ 2.67033724e+00 -5.19336180e-01  8.42360467e-01  1.14485538e+00\n",
            "  -8.16612379e-01 -2.21320943e-01 -1.17315562e+00 -5.78472626e-02\n",
            "  -1.64515057e-01  1.24845030e+00  9.31887358e-01  7.60332992e-01\n",
            "  -1.67168774e-01 -1.24572655e+00  1.46833213e+00 -1.52117687e-01\n",
            "   5.62669078e-01 -5.76610930e-01 -1.36963867e+00  4.16021749e-01]\n",
            " [-1.16830786e+00  2.01310838e+00 -1.77461266e+00  2.11546518e+00\n",
            "   8.67032208e-01 -9.57559083e-01 -1.03476441e-01  2.14527121e-01\n",
            "  -7.00781335e-01 -4.27350936e-01  1.68942867e+00 -1.01311960e+00\n",
            "   1.40154172e-01  2.13124649e+00 -6.31962477e-01  7.26787324e-01\n",
            "  -5.37493720e-01 -7.13935219e-02  2.62205386e-01 -1.20007711e+00]\n",
            " [ 4.60008897e-01  6.39850830e-01 -1.05099431e+00 -1.62234423e+00\n",
            "   1.02640247e+00  2.11470299e+00 -1.41107743e-01  9.83320232e-01\n",
            "   1.06431088e+00 -6.16586819e-01 -2.73022746e-01 -9.53847521e-01\n",
            "   1.61980669e+00  1.80765297e+00  9.90491724e-01 -9.27679170e-01\n",
            "  -1.18287840e+00  9.53262882e-01  2.85441438e-01  1.99396630e+00]\n",
            " [ 1.55233462e+00  5.92781097e-01  3.83112233e-01  1.75140722e-01\n",
            "  -1.14113676e+00 -1.58006952e+00  1.74283681e-01 -5.90224602e-01\n",
            "  -5.60998601e-01  4.71299893e-01  1.36382529e+00  8.76816509e-01\n",
            "  -5.68612003e-01 -7.94150057e-01 -1.55275783e+00  6.46350324e-01\n",
            "   5.71033519e-01 -1.64354281e+00  3.26330750e-01 -4.46904271e-01]\n",
            " [-1.59513440e+00  3.64690677e-01 -3.84064828e-01 -4.01026894e-01\n",
            "   2.53561069e-01  3.90698517e-01 -3.75202983e-02  4.19309510e-02\n",
            "  -7.80616391e-01 -3.97705756e-01 -6.08914196e-01 -2.64734386e-01\n",
            "   1.74122456e+00  6.28684111e-04 -2.12194138e-01  4.83982464e-01\n",
            "  -4.40514277e-02 -2.30303282e+00 -4.43511462e-01  5.44911801e-01]\n",
            " [ 9.11747865e-01  2.29945065e+00  7.48015937e-01  1.19717984e+00\n",
            "  -3.28848044e+00  3.24947182e-02 -7.94177964e-01  5.92992793e-01\n",
            "  -2.01933386e-02  6.90180924e-01 -9.39057367e-01  2.44351910e+00\n",
            "   4.00418848e-01  8.85691503e-01  1.69804451e+00  2.11787178e-01\n",
            "   1.03756491e+00 -7.09654189e-01 -4.59134928e-01 -7.00278087e-01]\n",
            " [-1.24274145e-01  1.17978709e+00 -1.50470461e+00 -5.61430750e-02\n",
            "   1.22462833e+00  5.17375773e-01  1.43387829e+00 -1.72090499e+00\n",
            "   7.14857338e-01 -7.30243008e-01  1.09997451e+00 -1.19669459e+00\n",
            "   6.11436375e-01  2.93594446e-02  6.12677491e-01 -4.81296041e-01\n",
            "   1.73405854e+00  1.39115616e+00  7.07360540e-01  1.18697146e+00]\n",
            " [-2.18256657e-01 -1.61433565e+00 -9.63797259e-01  1.65448270e-01\n",
            "   2.98504094e+00  2.31317117e-01 -4.24250858e-01 -1.38816848e+00\n",
            "  -5.78686417e-01 -1.41457866e+00 -8.41291023e-01 -2.28464737e+00\n",
            "   5.42969244e-01 -4.58428186e-01  1.86559550e+00 -7.62558584e-01\n",
            "   2.52924116e-01  5.85076044e-01 -1.09266630e+00  4.05289456e-01]\n",
            " [ 7.25862326e-01  6.16858038e-01 -1.03149160e+00 -1.56552262e-01\n",
            "   1.01768086e+00  2.81048152e-01 -6.59016404e-01  5.57027918e-02\n",
            "  -1.41396055e+00 -1.47456367e+00 -1.47816349e+00 -9.43270175e-01\n",
            "   8.20559975e-01 -7.71103241e-01 -2.11115993e-03 -4.22178147e-01\n",
            "   9.17123928e-01 -3.37853693e-01  2.64522755e-01  7.77865153e-01]]\n",
            "[0 1 0 0 0 1 1 0 1 0 0 1 1 0 1 0 1 1 0 0 1 0 1 0 0 0 1 0 0 0 1 1 1 1 1 1 0\n",
            " 0 1 1 1 0 1 1 0 1 1 1 0 1]\n"
          ],
          "name": "stdout"
        }
      ]
    },
    {
      "cell_type": "markdown",
      "metadata": {
        "id": "ZIQzdFVMpuS6"
      },
      "source": [
        "Generamos una curva de clasificación aleatoria."
      ]
    },
    {
      "cell_type": "code",
      "metadata": {
        "id": "RzeLge3NpyUU"
      },
      "source": [
        "prob_aleat = [0 for _ in range(len(test_dat2))]"
      ],
      "execution_count": 10,
      "outputs": []
    },
    {
      "cell_type": "markdown",
      "metadata": {
        "id": "UmcAI6Oip0iT"
      },
      "source": [
        "Aplicamos un método de clasificación a nuestro dataset."
      ]
    },
    {
      "cell_type": "code",
      "metadata": {
        "colab": {
          "base_uri": "https://localhost:8080/"
        },
        "id": "m5CpKNv6p38z",
        "outputId": "a5529829-6042-451c-d4f6-9cd89d15d1e1"
      },
      "source": [
        "model=LogisticRegression(solver='lbfgs')\n",
        "model.fit(train_dat1,train_dat2)"
      ],
      "execution_count": 11,
      "outputs": [
        {
          "output_type": "execute_result",
          "data": {
            "text/plain": [
              "LogisticRegression(C=1.0, class_weight=None, dual=False, fit_intercept=True,\n",
              "                   intercept_scaling=1, l1_ratio=None, max_iter=100,\n",
              "                   multi_class='auto', n_jobs=None, penalty='l2',\n",
              "                   random_state=None, solver='lbfgs', tol=0.0001, verbose=0,\n",
              "                   warm_start=False)"
            ]
          },
          "metadata": {
            "tags": []
          },
          "execution_count": 11
        }
      ]
    },
    {
      "cell_type": "markdown",
      "metadata": {
        "id": "S7_7bLHPp6SS"
      },
      "source": [
        "Predecimos las probabilidades de las dos clases."
      ]
    },
    {
      "cell_type": "code",
      "metadata": {
        "colab": {
          "base_uri": "https://localhost:8080/"
        },
        "id": "ntAg44YUp877",
        "outputId": "bb3aef9d-40e5-4613-c3fa-fcee07411fb7"
      },
      "source": [
        "logreg_probs = model.predict_proba(test_dat1)\n",
        "print(logreg_probs)"
      ],
      "execution_count": 12,
      "outputs": [
        {
          "output_type": "stream",
          "text": [
            "[[0.51310262 0.48689738]\n",
            " [0.10107624 0.89892376]\n",
            " [0.37452795 0.62547205]\n",
            " [0.01272102 0.98727898]\n",
            " [0.14990967 0.85009033]\n",
            " [0.95897349 0.04102651]\n",
            " [0.09517365 0.90482635]\n",
            " [0.84039634 0.15960366]\n",
            " [0.80805064 0.19194936]\n",
            " [0.33780747 0.66219253]\n",
            " [0.03178612 0.96821388]\n",
            " [0.98207622 0.01792378]\n",
            " [0.9806521  0.0193479 ]\n",
            " [0.32947899 0.67052101]\n",
            " [0.01109058 0.98890942]\n",
            " [0.09818455 0.90181545]\n",
            " [0.85219228 0.14780772]\n",
            " [0.86945468 0.13054532]\n",
            " [0.27575279 0.72424721]\n",
            " [0.11584558 0.88415442]\n",
            " [0.57219637 0.42780363]\n",
            " [0.24008503 0.75991497]\n",
            " [0.09131585 0.90868415]\n",
            " [0.9800619  0.0199381 ]\n",
            " [0.66233447 0.33766553]\n",
            " [0.96298149 0.03701851]\n",
            " [0.01275854 0.98724146]\n",
            " [0.99327383 0.00672617]\n",
            " [0.88583848 0.11416152]\n",
            " [0.6455427  0.3544573 ]\n",
            " [0.06174277 0.93825723]\n",
            " [0.87829249 0.12170751]\n",
            " [0.2949727  0.7050273 ]\n",
            " [0.01213383 0.98786617]\n",
            " [0.97004586 0.02995414]\n",
            " [0.02932564 0.97067436]\n",
            " [0.28436053 0.71563947]\n",
            " [0.98984411 0.01015589]\n",
            " [0.9980766  0.0019234 ]\n",
            " [0.05854066 0.94145934]\n",
            " [0.71980475 0.28019525]\n",
            " [0.85244709 0.14755291]\n",
            " [0.35859063 0.64140937]\n",
            " [0.10264789 0.89735211]\n",
            " [0.00864926 0.99135074]\n",
            " [0.89007406 0.10992594]\n",
            " [0.933526   0.066474  ]\n",
            " [0.49515727 0.50484273]\n",
            " [0.95654608 0.04345392]\n",
            " [0.80152114 0.19847886]]\n"
          ],
          "name": "stdout"
        }
      ]
    },
    {
      "cell_type": "markdown",
      "metadata": {
        "id": "t-Od1PC7qD2a"
      },
      "source": [
        "Del total predicho nos quedamos unicamente con los resultados positivos."
      ]
    },
    {
      "cell_type": "code",
      "metadata": {
        "colab": {
          "base_uri": "https://localhost:8080/"
        },
        "id": "834KPbjJqEjD",
        "outputId": "d9abc920-8b55-421f-ab58-994111b06f10"
      },
      "source": [
        "logreg_probs = logreg_probs[:,1]\n",
        "print(logreg_probs)"
      ],
      "execution_count": 13,
      "outputs": [
        {
          "output_type": "stream",
          "text": [
            "[0.48689738 0.89892376 0.62547205 0.98727898 0.85009033 0.04102651\n",
            " 0.90482635 0.15960366 0.19194936 0.66219253 0.96821388 0.01792378\n",
            " 0.0193479  0.67052101 0.98890942 0.90181545 0.14780772 0.13054532\n",
            " 0.72424721 0.88415442 0.42780363 0.75991497 0.90868415 0.0199381\n",
            " 0.33766553 0.03701851 0.98724146 0.00672617 0.11416152 0.3544573\n",
            " 0.93825723 0.12170751 0.7050273  0.98786617 0.02995414 0.97067436\n",
            " 0.71563947 0.01015589 0.0019234  0.94145934 0.28019525 0.14755291\n",
            " 0.64140937 0.89735211 0.99135074 0.10992594 0.066474   0.50484273\n",
            " 0.04345392 0.19847886]\n"
          ],
          "name": "stdout"
        }
      ]
    },
    {
      "cell_type": "markdown",
      "metadata": {
        "id": "koJb8QvOqH9j"
      },
      "source": [
        "Calculamos los resultados del AUC (área bajo la curva) para la regresión logística y la clasificación aleatoria:"
      ]
    },
    {
      "cell_type": "code",
      "metadata": {
        "colab": {
          "base_uri": "https://localhost:8080/"
        },
        "id": "bJT5P5e7qL_q",
        "outputId": "b2a297ea-0abc-4e93-dbeb-d413414f35e0"
      },
      "source": [
        "aleat_auc = roc_auc_score(test_dat2, prob_aleat)\n",
        "logreg_auc = roc_auc_score(test_dat2,logreg_probs)\n",
        "print('Aleatoria: ROC AUC=',(aleat_auc))\n",
        "print('Logística: ROC AUC=',(logreg_auc))"
      ],
      "execution_count": 14,
      "outputs": [
        {
          "output_type": "stream",
          "text": [
            "Aleatoria: ROC AUC= 0.5\n",
            "Logística: ROC AUC= 0.8808373590982287\n"
          ],
          "name": "stdout"
        }
      ]
    },
    {
      "cell_type": "markdown",
      "metadata": {
        "id": "aHXcaig0qOha"
      },
      "source": [
        "Calculamos la curva ROC:"
      ]
    },
    {
      "cell_type": "code",
      "metadata": {
        "id": "rmBbTuYAqXiy"
      },
      "source": [
        "aleat_fpr, aleat_tpr, _ = roc_curve(test_dat2, prob_aleat)\n",
        "logreg_fpr, logreg_tpr, _ = roc_curve(test_dat2, logreg_probs)"
      ],
      "execution_count": 15,
      "outputs": []
    },
    {
      "cell_type": "markdown",
      "metadata": {
        "id": "9Cw9FUpXqZwK"
      },
      "source": [
        "Graficamos la curva ROC para este ejemplo."
      ]
    },
    {
      "cell_type": "code",
      "metadata": {
        "colab": {
          "base_uri": "https://localhost:8080/",
          "height": 279
        },
        "id": "0RBPMThGqcVJ",
        "outputId": "5509cf3c-b7e9-4945-a7c4-422c15caec4e"
      },
      "source": [
        "plt.plot(aleat_fpr, aleat_tpr, label=\"Aleatoria\")\n",
        "plt.plot(logreg_fpr, logreg_tpr, label=\"Regresión Logística\")\n",
        "plt.xlabel(\"False Positive Rate\") #Agregamos el nombre al eje X\n",
        "plt.ylabel(\"True Positive Rate\")  #Agregamos el nombre al eje Y\n",
        "plt.legend()  #Agregamos las referencias\n",
        "plt.show()  #Mostramos el gráfico completo"
      ],
      "execution_count": 16,
      "outputs": [
        {
          "output_type": "display_data",
          "data": {
            "image/png": "[encoded data removed]",
            "text/plain": [
              "<Figure size 432x288 with 1 Axes>"
            ]
          },
          "metadata": {
            "tags": [],
            "needs_background": "light"
          }
        }
      ]
    }
  ]
}